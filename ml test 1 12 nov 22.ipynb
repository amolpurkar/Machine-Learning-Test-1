{
 "cells": [
  {
   "cell_type": "markdown",
   "id": "1078f6cb",
   "metadata": {},
   "source": [
    "<b>Part I: Supervised Learning</b>\n",
    "<br><br>Import Required Libraries to perform ML"
   ]
  },
  {
   "cell_type": "markdown",
   "id": "89409e6c",
   "metadata": {},
   "source": [
    "# Name = Amol G, Purkar\n",
    "PGA WD 32\n",
    "ML 1 Test"
   ]
  },
  {
   "cell_type": "code",
   "execution_count": null,
   "id": "99adb55b",
   "metadata": {},
   "outputs": [],
   "source": []
  },
  {
   "cell_type": "code",
   "execution_count": 53,
   "id": "c8f6d8a3",
   "metadata": {},
   "outputs": [],
   "source": [
    "import pandas as pd\n",
    "import numpy as np\n",
    "\n",
    "from sklearn.preprocessing import LabelEncoder\n",
    "\n",
    "from sklearn.ensemble import RandomForestClassifier\n",
    "from sklearn.feature_selection import RFE\n",
    "\n",
    "from sklearn.metrics import roc_curve\n",
    "import matplotlib.patches as mpatches\n",
    "import matplotlib.pyplot as plt\n",
    "from sklearn.metrics import confusion_matrix\n",
    "from sklearn.metrics import precision_score\n",
    "from sklearn.metrics import recall_score\n",
    "from sklearn.metrics import f1_score\n",
    "from sklearn.metrics import accuracy_score\n",
    "from sklearn.metrics import roc_auc_score\n",
    "\n",
    "from sklearn.model_selection import train_test_split\n",
    "\n",
    "from sklearn.linear_model import LogisticRegression\n",
    "from sklearn.tree import DecisionTreeClassifier\n",
    "from sklearn.ensemble import RandomForestClassifier\n",
    "from sklearn.neighbors import KNeighborsClassifier\n",
    "from sklearn.svm import SVC\n",
    "import xgboost as XGBClassifier\n",
    "from sklearn.ensemble import AdaBoostClassifier\n",
    "from sklearn.naive_bayes import GaussianNB"
   ]
  },
  {
   "cell_type": "code",
   "execution_count": null,
   "id": "89b6c7cf",
   "metadata": {},
   "outputs": [],
   "source": []
  },
  {
   "cell_type": "code",
   "execution_count": 54,
   "id": "10c3928a",
   "metadata": {
    "scrolled": true
   },
   "outputs": [
    {
     "data": {
      "text/html": [
       "<div>\n",
       "<style scoped>\n",
       "    .dataframe tbody tr th:only-of-type {\n",
       "        vertical-align: middle;\n",
       "    }\n",
       "\n",
       "    .dataframe tbody tr th {\n",
       "        vertical-align: top;\n",
       "    }\n",
       "\n",
       "    .dataframe thead th {\n",
       "        text-align: right;\n",
       "    }\n",
       "</style>\n",
       "<table border=\"1\" class=\"dataframe\">\n",
       "  <thead>\n",
       "    <tr style=\"text-align: right;\">\n",
       "      <th></th>\n",
       "      <th>age</th>\n",
       "      <th>job</th>\n",
       "      <th>marital</th>\n",
       "      <th>education</th>\n",
       "      <th>default</th>\n",
       "      <th>housing</th>\n",
       "      <th>loan</th>\n",
       "      <th>contact</th>\n",
       "      <th>month</th>\n",
       "      <th>day_of_week</th>\n",
       "      <th>...</th>\n",
       "      <th>campaign</th>\n",
       "      <th>pdays</th>\n",
       "      <th>previous</th>\n",
       "      <th>poutcome</th>\n",
       "      <th>emp.var.rate</th>\n",
       "      <th>cons.price.idx</th>\n",
       "      <th>cons.conf.idx</th>\n",
       "      <th>euribor3m</th>\n",
       "      <th>nr.employed</th>\n",
       "      <th>y</th>\n",
       "    </tr>\n",
       "  </thead>\n",
       "  <tbody>\n",
       "    <tr>\n",
       "      <th>0</th>\n",
       "      <td>56</td>\n",
       "      <td>housemaid</td>\n",
       "      <td>married</td>\n",
       "      <td>basic.4y</td>\n",
       "      <td>no</td>\n",
       "      <td>no</td>\n",
       "      <td>no</td>\n",
       "      <td>telephone</td>\n",
       "      <td>may</td>\n",
       "      <td>mon</td>\n",
       "      <td>...</td>\n",
       "      <td>1</td>\n",
       "      <td>999</td>\n",
       "      <td>0</td>\n",
       "      <td>nonexistent</td>\n",
       "      <td>1.1</td>\n",
       "      <td>93.994</td>\n",
       "      <td>-36.4</td>\n",
       "      <td>4.857</td>\n",
       "      <td>5191.0</td>\n",
       "      <td>no</td>\n",
       "    </tr>\n",
       "    <tr>\n",
       "      <th>1</th>\n",
       "      <td>57</td>\n",
       "      <td>services</td>\n",
       "      <td>married</td>\n",
       "      <td>high.school</td>\n",
       "      <td>unknown</td>\n",
       "      <td>no</td>\n",
       "      <td>no</td>\n",
       "      <td>telephone</td>\n",
       "      <td>may</td>\n",
       "      <td>mon</td>\n",
       "      <td>...</td>\n",
       "      <td>1</td>\n",
       "      <td>999</td>\n",
       "      <td>0</td>\n",
       "      <td>nonexistent</td>\n",
       "      <td>1.1</td>\n",
       "      <td>93.994</td>\n",
       "      <td>-36.4</td>\n",
       "      <td>4.857</td>\n",
       "      <td>5191.0</td>\n",
       "      <td>no</td>\n",
       "    </tr>\n",
       "    <tr>\n",
       "      <th>2</th>\n",
       "      <td>37</td>\n",
       "      <td>services</td>\n",
       "      <td>married</td>\n",
       "      <td>high.school</td>\n",
       "      <td>no</td>\n",
       "      <td>yes</td>\n",
       "      <td>no</td>\n",
       "      <td>telephone</td>\n",
       "      <td>may</td>\n",
       "      <td>mon</td>\n",
       "      <td>...</td>\n",
       "      <td>1</td>\n",
       "      <td>999</td>\n",
       "      <td>0</td>\n",
       "      <td>nonexistent</td>\n",
       "      <td>1.1</td>\n",
       "      <td>93.994</td>\n",
       "      <td>-36.4</td>\n",
       "      <td>4.857</td>\n",
       "      <td>5191.0</td>\n",
       "      <td>no</td>\n",
       "    </tr>\n",
       "    <tr>\n",
       "      <th>3</th>\n",
       "      <td>40</td>\n",
       "      <td>admin.</td>\n",
       "      <td>married</td>\n",
       "      <td>basic.6y</td>\n",
       "      <td>no</td>\n",
       "      <td>no</td>\n",
       "      <td>no</td>\n",
       "      <td>telephone</td>\n",
       "      <td>may</td>\n",
       "      <td>mon</td>\n",
       "      <td>...</td>\n",
       "      <td>1</td>\n",
       "      <td>999</td>\n",
       "      <td>0</td>\n",
       "      <td>nonexistent</td>\n",
       "      <td>1.1</td>\n",
       "      <td>93.994</td>\n",
       "      <td>-36.4</td>\n",
       "      <td>4.857</td>\n",
       "      <td>5191.0</td>\n",
       "      <td>no</td>\n",
       "    </tr>\n",
       "    <tr>\n",
       "      <th>4</th>\n",
       "      <td>56</td>\n",
       "      <td>services</td>\n",
       "      <td>married</td>\n",
       "      <td>high.school</td>\n",
       "      <td>no</td>\n",
       "      <td>no</td>\n",
       "      <td>yes</td>\n",
       "      <td>telephone</td>\n",
       "      <td>may</td>\n",
       "      <td>mon</td>\n",
       "      <td>...</td>\n",
       "      <td>1</td>\n",
       "      <td>999</td>\n",
       "      <td>0</td>\n",
       "      <td>nonexistent</td>\n",
       "      <td>1.1</td>\n",
       "      <td>93.994</td>\n",
       "      <td>-36.4</td>\n",
       "      <td>4.857</td>\n",
       "      <td>5191.0</td>\n",
       "      <td>no</td>\n",
       "    </tr>\n",
       "    <tr>\n",
       "      <th>5</th>\n",
       "      <td>45</td>\n",
       "      <td>services</td>\n",
       "      <td>married</td>\n",
       "      <td>basic.9y</td>\n",
       "      <td>unknown</td>\n",
       "      <td>no</td>\n",
       "      <td>no</td>\n",
       "      <td>telephone</td>\n",
       "      <td>may</td>\n",
       "      <td>mon</td>\n",
       "      <td>...</td>\n",
       "      <td>1</td>\n",
       "      <td>999</td>\n",
       "      <td>0</td>\n",
       "      <td>nonexistent</td>\n",
       "      <td>1.1</td>\n",
       "      <td>93.994</td>\n",
       "      <td>-36.4</td>\n",
       "      <td>4.857</td>\n",
       "      <td>5191.0</td>\n",
       "      <td>no</td>\n",
       "    </tr>\n",
       "    <tr>\n",
       "      <th>6</th>\n",
       "      <td>59</td>\n",
       "      <td>admin.</td>\n",
       "      <td>married</td>\n",
       "      <td>professional.course</td>\n",
       "      <td>no</td>\n",
       "      <td>no</td>\n",
       "      <td>no</td>\n",
       "      <td>telephone</td>\n",
       "      <td>may</td>\n",
       "      <td>mon</td>\n",
       "      <td>...</td>\n",
       "      <td>1</td>\n",
       "      <td>999</td>\n",
       "      <td>0</td>\n",
       "      <td>nonexistent</td>\n",
       "      <td>1.1</td>\n",
       "      <td>93.994</td>\n",
       "      <td>-36.4</td>\n",
       "      <td>4.857</td>\n",
       "      <td>5191.0</td>\n",
       "      <td>no</td>\n",
       "    </tr>\n",
       "    <tr>\n",
       "      <th>7</th>\n",
       "      <td>41</td>\n",
       "      <td>blue-collar</td>\n",
       "      <td>married</td>\n",
       "      <td>unknown</td>\n",
       "      <td>unknown</td>\n",
       "      <td>no</td>\n",
       "      <td>no</td>\n",
       "      <td>telephone</td>\n",
       "      <td>may</td>\n",
       "      <td>mon</td>\n",
       "      <td>...</td>\n",
       "      <td>1</td>\n",
       "      <td>999</td>\n",
       "      <td>0</td>\n",
       "      <td>nonexistent</td>\n",
       "      <td>1.1</td>\n",
       "      <td>93.994</td>\n",
       "      <td>-36.4</td>\n",
       "      <td>4.857</td>\n",
       "      <td>5191.0</td>\n",
       "      <td>no</td>\n",
       "    </tr>\n",
       "    <tr>\n",
       "      <th>8</th>\n",
       "      <td>24</td>\n",
       "      <td>technician</td>\n",
       "      <td>single</td>\n",
       "      <td>professional.course</td>\n",
       "      <td>no</td>\n",
       "      <td>yes</td>\n",
       "      <td>no</td>\n",
       "      <td>telephone</td>\n",
       "      <td>may</td>\n",
       "      <td>mon</td>\n",
       "      <td>...</td>\n",
       "      <td>1</td>\n",
       "      <td>999</td>\n",
       "      <td>0</td>\n",
       "      <td>nonexistent</td>\n",
       "      <td>1.1</td>\n",
       "      <td>93.994</td>\n",
       "      <td>-36.4</td>\n",
       "      <td>4.857</td>\n",
       "      <td>5191.0</td>\n",
       "      <td>no</td>\n",
       "    </tr>\n",
       "    <tr>\n",
       "      <th>9</th>\n",
       "      <td>25</td>\n",
       "      <td>services</td>\n",
       "      <td>single</td>\n",
       "      <td>high.school</td>\n",
       "      <td>no</td>\n",
       "      <td>yes</td>\n",
       "      <td>no</td>\n",
       "      <td>telephone</td>\n",
       "      <td>may</td>\n",
       "      <td>mon</td>\n",
       "      <td>...</td>\n",
       "      <td>1</td>\n",
       "      <td>999</td>\n",
       "      <td>0</td>\n",
       "      <td>nonexistent</td>\n",
       "      <td>1.1</td>\n",
       "      <td>93.994</td>\n",
       "      <td>-36.4</td>\n",
       "      <td>4.857</td>\n",
       "      <td>5191.0</td>\n",
       "      <td>no</td>\n",
       "    </tr>\n",
       "    <tr>\n",
       "      <th>10</th>\n",
       "      <td>41</td>\n",
       "      <td>blue-collar</td>\n",
       "      <td>married</td>\n",
       "      <td>unknown</td>\n",
       "      <td>unknown</td>\n",
       "      <td>no</td>\n",
       "      <td>no</td>\n",
       "      <td>telephone</td>\n",
       "      <td>may</td>\n",
       "      <td>mon</td>\n",
       "      <td>...</td>\n",
       "      <td>1</td>\n",
       "      <td>999</td>\n",
       "      <td>0</td>\n",
       "      <td>nonexistent</td>\n",
       "      <td>1.1</td>\n",
       "      <td>93.994</td>\n",
       "      <td>-36.4</td>\n",
       "      <td>4.857</td>\n",
       "      <td>5191.0</td>\n",
       "      <td>no</td>\n",
       "    </tr>\n",
       "    <tr>\n",
       "      <th>11</th>\n",
       "      <td>25</td>\n",
       "      <td>services</td>\n",
       "      <td>single</td>\n",
       "      <td>high.school</td>\n",
       "      <td>no</td>\n",
       "      <td>yes</td>\n",
       "      <td>no</td>\n",
       "      <td>telephone</td>\n",
       "      <td>may</td>\n",
       "      <td>mon</td>\n",
       "      <td>...</td>\n",
       "      <td>1</td>\n",
       "      <td>999</td>\n",
       "      <td>0</td>\n",
       "      <td>nonexistent</td>\n",
       "      <td>1.1</td>\n",
       "      <td>93.994</td>\n",
       "      <td>-36.4</td>\n",
       "      <td>4.857</td>\n",
       "      <td>5191.0</td>\n",
       "      <td>no</td>\n",
       "    </tr>\n",
       "    <tr>\n",
       "      <th>12</th>\n",
       "      <td>29</td>\n",
       "      <td>blue-collar</td>\n",
       "      <td>single</td>\n",
       "      <td>high.school</td>\n",
       "      <td>no</td>\n",
       "      <td>no</td>\n",
       "      <td>yes</td>\n",
       "      <td>telephone</td>\n",
       "      <td>may</td>\n",
       "      <td>mon</td>\n",
       "      <td>...</td>\n",
       "      <td>1</td>\n",
       "      <td>999</td>\n",
       "      <td>0</td>\n",
       "      <td>nonexistent</td>\n",
       "      <td>1.1</td>\n",
       "      <td>93.994</td>\n",
       "      <td>-36.4</td>\n",
       "      <td>4.857</td>\n",
       "      <td>5191.0</td>\n",
       "      <td>no</td>\n",
       "    </tr>\n",
       "    <tr>\n",
       "      <th>13</th>\n",
       "      <td>57</td>\n",
       "      <td>housemaid</td>\n",
       "      <td>divorced</td>\n",
       "      <td>basic.4y</td>\n",
       "      <td>no</td>\n",
       "      <td>yes</td>\n",
       "      <td>no</td>\n",
       "      <td>telephone</td>\n",
       "      <td>may</td>\n",
       "      <td>mon</td>\n",
       "      <td>...</td>\n",
       "      <td>1</td>\n",
       "      <td>999</td>\n",
       "      <td>0</td>\n",
       "      <td>nonexistent</td>\n",
       "      <td>1.1</td>\n",
       "      <td>93.994</td>\n",
       "      <td>-36.4</td>\n",
       "      <td>4.857</td>\n",
       "      <td>5191.0</td>\n",
       "      <td>no</td>\n",
       "    </tr>\n",
       "    <tr>\n",
       "      <th>14</th>\n",
       "      <td>35</td>\n",
       "      <td>blue-collar</td>\n",
       "      <td>married</td>\n",
       "      <td>basic.6y</td>\n",
       "      <td>no</td>\n",
       "      <td>yes</td>\n",
       "      <td>no</td>\n",
       "      <td>telephone</td>\n",
       "      <td>may</td>\n",
       "      <td>mon</td>\n",
       "      <td>...</td>\n",
       "      <td>1</td>\n",
       "      <td>999</td>\n",
       "      <td>0</td>\n",
       "      <td>nonexistent</td>\n",
       "      <td>1.1</td>\n",
       "      <td>93.994</td>\n",
       "      <td>-36.4</td>\n",
       "      <td>4.857</td>\n",
       "      <td>5191.0</td>\n",
       "      <td>no</td>\n",
       "    </tr>\n",
       "    <tr>\n",
       "      <th>15</th>\n",
       "      <td>54</td>\n",
       "      <td>retired</td>\n",
       "      <td>married</td>\n",
       "      <td>basic.9y</td>\n",
       "      <td>unknown</td>\n",
       "      <td>yes</td>\n",
       "      <td>yes</td>\n",
       "      <td>telephone</td>\n",
       "      <td>may</td>\n",
       "      <td>mon</td>\n",
       "      <td>...</td>\n",
       "      <td>1</td>\n",
       "      <td>999</td>\n",
       "      <td>0</td>\n",
       "      <td>nonexistent</td>\n",
       "      <td>1.1</td>\n",
       "      <td>93.994</td>\n",
       "      <td>-36.4</td>\n",
       "      <td>4.857</td>\n",
       "      <td>5191.0</td>\n",
       "      <td>no</td>\n",
       "    </tr>\n",
       "    <tr>\n",
       "      <th>16</th>\n",
       "      <td>35</td>\n",
       "      <td>blue-collar</td>\n",
       "      <td>married</td>\n",
       "      <td>basic.6y</td>\n",
       "      <td>no</td>\n",
       "      <td>yes</td>\n",
       "      <td>no</td>\n",
       "      <td>telephone</td>\n",
       "      <td>may</td>\n",
       "      <td>mon</td>\n",
       "      <td>...</td>\n",
       "      <td>1</td>\n",
       "      <td>999</td>\n",
       "      <td>0</td>\n",
       "      <td>nonexistent</td>\n",
       "      <td>1.1</td>\n",
       "      <td>93.994</td>\n",
       "      <td>-36.4</td>\n",
       "      <td>4.857</td>\n",
       "      <td>5191.0</td>\n",
       "      <td>no</td>\n",
       "    </tr>\n",
       "    <tr>\n",
       "      <th>17</th>\n",
       "      <td>46</td>\n",
       "      <td>blue-collar</td>\n",
       "      <td>married</td>\n",
       "      <td>basic.6y</td>\n",
       "      <td>unknown</td>\n",
       "      <td>yes</td>\n",
       "      <td>yes</td>\n",
       "      <td>telephone</td>\n",
       "      <td>may</td>\n",
       "      <td>mon</td>\n",
       "      <td>...</td>\n",
       "      <td>1</td>\n",
       "      <td>999</td>\n",
       "      <td>0</td>\n",
       "      <td>nonexistent</td>\n",
       "      <td>1.1</td>\n",
       "      <td>93.994</td>\n",
       "      <td>-36.4</td>\n",
       "      <td>4.857</td>\n",
       "      <td>5191.0</td>\n",
       "      <td>no</td>\n",
       "    </tr>\n",
       "    <tr>\n",
       "      <th>18</th>\n",
       "      <td>50</td>\n",
       "      <td>blue-collar</td>\n",
       "      <td>married</td>\n",
       "      <td>basic.9y</td>\n",
       "      <td>no</td>\n",
       "      <td>yes</td>\n",
       "      <td>yes</td>\n",
       "      <td>telephone</td>\n",
       "      <td>may</td>\n",
       "      <td>mon</td>\n",
       "      <td>...</td>\n",
       "      <td>1</td>\n",
       "      <td>999</td>\n",
       "      <td>0</td>\n",
       "      <td>nonexistent</td>\n",
       "      <td>1.1</td>\n",
       "      <td>93.994</td>\n",
       "      <td>-36.4</td>\n",
       "      <td>4.857</td>\n",
       "      <td>5191.0</td>\n",
       "      <td>no</td>\n",
       "    </tr>\n",
       "    <tr>\n",
       "      <th>19</th>\n",
       "      <td>39</td>\n",
       "      <td>management</td>\n",
       "      <td>single</td>\n",
       "      <td>basic.9y</td>\n",
       "      <td>unknown</td>\n",
       "      <td>no</td>\n",
       "      <td>no</td>\n",
       "      <td>telephone</td>\n",
       "      <td>may</td>\n",
       "      <td>mon</td>\n",
       "      <td>...</td>\n",
       "      <td>1</td>\n",
       "      <td>999</td>\n",
       "      <td>0</td>\n",
       "      <td>nonexistent</td>\n",
       "      <td>1.1</td>\n",
       "      <td>93.994</td>\n",
       "      <td>-36.4</td>\n",
       "      <td>4.857</td>\n",
       "      <td>5191.0</td>\n",
       "      <td>no</td>\n",
       "    </tr>\n",
       "  </tbody>\n",
       "</table>\n",
       "<p>20 rows × 21 columns</p>\n",
       "</div>"
      ],
      "text/plain": [
       "    age          job   marital            education  default housing loan  \\\n",
       "0    56    housemaid   married             basic.4y       no      no   no   \n",
       "1    57     services   married          high.school  unknown      no   no   \n",
       "2    37     services   married          high.school       no     yes   no   \n",
       "3    40       admin.   married             basic.6y       no      no   no   \n",
       "4    56     services   married          high.school       no      no  yes   \n",
       "5    45     services   married             basic.9y  unknown      no   no   \n",
       "6    59       admin.   married  professional.course       no      no   no   \n",
       "7    41  blue-collar   married              unknown  unknown      no   no   \n",
       "8    24   technician    single  professional.course       no     yes   no   \n",
       "9    25     services    single          high.school       no     yes   no   \n",
       "10   41  blue-collar   married              unknown  unknown      no   no   \n",
       "11   25     services    single          high.school       no     yes   no   \n",
       "12   29  blue-collar    single          high.school       no      no  yes   \n",
       "13   57    housemaid  divorced             basic.4y       no     yes   no   \n",
       "14   35  blue-collar   married             basic.6y       no     yes   no   \n",
       "15   54      retired   married             basic.9y  unknown     yes  yes   \n",
       "16   35  blue-collar   married             basic.6y       no     yes   no   \n",
       "17   46  blue-collar   married             basic.6y  unknown     yes  yes   \n",
       "18   50  blue-collar   married             basic.9y       no     yes  yes   \n",
       "19   39   management    single             basic.9y  unknown      no   no   \n",
       "\n",
       "      contact month day_of_week  ...  campaign  pdays  previous     poutcome  \\\n",
       "0   telephone   may         mon  ...         1    999         0  nonexistent   \n",
       "1   telephone   may         mon  ...         1    999         0  nonexistent   \n",
       "2   telephone   may         mon  ...         1    999         0  nonexistent   \n",
       "3   telephone   may         mon  ...         1    999         0  nonexistent   \n",
       "4   telephone   may         mon  ...         1    999         0  nonexistent   \n",
       "5   telephone   may         mon  ...         1    999         0  nonexistent   \n",
       "6   telephone   may         mon  ...         1    999         0  nonexistent   \n",
       "7   telephone   may         mon  ...         1    999         0  nonexistent   \n",
       "8   telephone   may         mon  ...         1    999         0  nonexistent   \n",
       "9   telephone   may         mon  ...         1    999         0  nonexistent   \n",
       "10  telephone   may         mon  ...         1    999         0  nonexistent   \n",
       "11  telephone   may         mon  ...         1    999         0  nonexistent   \n",
       "12  telephone   may         mon  ...         1    999         0  nonexistent   \n",
       "13  telephone   may         mon  ...         1    999         0  nonexistent   \n",
       "14  telephone   may         mon  ...         1    999         0  nonexistent   \n",
       "15  telephone   may         mon  ...         1    999         0  nonexistent   \n",
       "16  telephone   may         mon  ...         1    999         0  nonexistent   \n",
       "17  telephone   may         mon  ...         1    999         0  nonexistent   \n",
       "18  telephone   may         mon  ...         1    999         0  nonexistent   \n",
       "19  telephone   may         mon  ...         1    999         0  nonexistent   \n",
       "\n",
       "   emp.var.rate  cons.price.idx  cons.conf.idx  euribor3m  nr.employed   y  \n",
       "0           1.1          93.994          -36.4      4.857       5191.0  no  \n",
       "1           1.1          93.994          -36.4      4.857       5191.0  no  \n",
       "2           1.1          93.994          -36.4      4.857       5191.0  no  \n",
       "3           1.1          93.994          -36.4      4.857       5191.0  no  \n",
       "4           1.1          93.994          -36.4      4.857       5191.0  no  \n",
       "5           1.1          93.994          -36.4      4.857       5191.0  no  \n",
       "6           1.1          93.994          -36.4      4.857       5191.0  no  \n",
       "7           1.1          93.994          -36.4      4.857       5191.0  no  \n",
       "8           1.1          93.994          -36.4      4.857       5191.0  no  \n",
       "9           1.1          93.994          -36.4      4.857       5191.0  no  \n",
       "10          1.1          93.994          -36.4      4.857       5191.0  no  \n",
       "11          1.1          93.994          -36.4      4.857       5191.0  no  \n",
       "12          1.1          93.994          -36.4      4.857       5191.0  no  \n",
       "13          1.1          93.994          -36.4      4.857       5191.0  no  \n",
       "14          1.1          93.994          -36.4      4.857       5191.0  no  \n",
       "15          1.1          93.994          -36.4      4.857       5191.0  no  \n",
       "16          1.1          93.994          -36.4      4.857       5191.0  no  \n",
       "17          1.1          93.994          -36.4      4.857       5191.0  no  \n",
       "18          1.1          93.994          -36.4      4.857       5191.0  no  \n",
       "19          1.1          93.994          -36.4      4.857       5191.0  no  \n",
       "\n",
       "[20 rows x 21 columns]"
      ]
     },
     "execution_count": 54,
     "metadata": {},
     "output_type": "execute_result"
    }
   ],
   "source": [
    "bank=pd.read_csv(r\"D:\\24 Machine Learning Question Paper 1 with datasets\\bank.csv\", sep=\";\")\n",
    "bank.head(20)"
   ]
  },
  {
   "cell_type": "code",
   "execution_count": 55,
   "id": "0d78a91e",
   "metadata": {},
   "outputs": [
    {
     "data": {
      "text/plain": [
       "(41188, 21)"
      ]
     },
     "execution_count": 55,
     "metadata": {},
     "output_type": "execute_result"
    }
   ],
   "source": [
    "bank.shape"
   ]
  },
  {
   "cell_type": "code",
   "execution_count": 56,
   "id": "c5213306",
   "metadata": {},
   "outputs": [
    {
     "data": {
      "text/plain": [
       "Index(['age', 'job', 'marital', 'education', 'default', 'housing', 'loan',\n",
       "       'contact', 'month', 'day_of_week', 'duration', 'campaign', 'pdays',\n",
       "       'previous', 'poutcome', 'emp.var.rate', 'cons.price.idx',\n",
       "       'cons.conf.idx', 'euribor3m', 'nr.employed', 'y'],\n",
       "      dtype='object')"
      ]
     },
     "execution_count": 56,
     "metadata": {},
     "output_type": "execute_result"
    }
   ],
   "source": [
    "bank.columns"
   ]
  },
  {
   "cell_type": "code",
   "execution_count": 57,
   "id": "af88ce79",
   "metadata": {
    "scrolled": true
   },
   "outputs": [
    {
     "name": "stdout",
     "output_type": "stream",
     "text": [
      "<class 'pandas.core.frame.DataFrame'>\n",
      "RangeIndex: 41188 entries, 0 to 41187\n",
      "Data columns (total 21 columns):\n",
      " #   Column          Non-Null Count  Dtype  \n",
      "---  ------          --------------  -----  \n",
      " 0   age             41188 non-null  int64  \n",
      " 1   job             41188 non-null  object \n",
      " 2   marital         41188 non-null  object \n",
      " 3   education       41188 non-null  object \n",
      " 4   default         41188 non-null  object \n",
      " 5   housing         41188 non-null  object \n",
      " 6   loan            41188 non-null  object \n",
      " 7   contact         41188 non-null  object \n",
      " 8   month           41188 non-null  object \n",
      " 9   day_of_week     41188 non-null  object \n",
      " 10  duration        41188 non-null  int64  \n",
      " 11  campaign        41188 non-null  int64  \n",
      " 12  pdays           41188 non-null  int64  \n",
      " 13  previous        41188 non-null  int64  \n",
      " 14  poutcome        41188 non-null  object \n",
      " 15  emp.var.rate    41188 non-null  float64\n",
      " 16  cons.price.idx  41188 non-null  float64\n",
      " 17  cons.conf.idx   41188 non-null  float64\n",
      " 18  euribor3m       41188 non-null  float64\n",
      " 19  nr.employed     41188 non-null  float64\n",
      " 20  y               41188 non-null  object \n",
      "dtypes: float64(5), int64(5), object(11)\n",
      "memory usage: 6.6+ MB\n"
     ]
    }
   ],
   "source": [
    "bank.info()"
   ]
  },
  {
   "cell_type": "markdown",
   "id": "e6d55f13",
   "metadata": {},
   "source": [
    "<h4>Find out the Numeric from the Dataset</h4>"
   ]
  },
  {
   "cell_type": "code",
   "execution_count": 58,
   "id": "14fdf7fd",
   "metadata": {},
   "outputs": [
    {
     "name": "stdout",
     "output_type": "stream",
     "text": [
      "Columns with Numeric Data Type :  10 \n",
      "\n",
      " Index(['age', 'duration', 'campaign', 'pdays', 'previous', 'emp.var.rate',\n",
      "       'cons.price.idx', 'cons.conf.idx', 'euribor3m', 'nr.employed'],\n",
      "      dtype='object')\n"
     ]
    }
   ],
   "source": [
    "print('Columns with Numeric Data Type : ',bank[bank.select_dtypes(include = ['int', 'float']).columns].shape[1],'\\n\\n',bank.columns[bank.dtypes != 'object'])\n",
    "# bank[bank.select_dtypes(include=['int', 'float']).columns]\n",
    "\n"
   ]
  },
  {
   "cell_type": "markdown",
   "id": "8f43a73e",
   "metadata": {},
   "source": [
    "<h4>Find out Object type Columns from the Dataset</h4>"
   ]
  },
  {
   "cell_type": "code",
   "execution_count": 59,
   "id": "9e5f9d46",
   "metadata": {},
   "outputs": [
    {
     "name": "stdout",
     "output_type": "stream",
     "text": [
      "\n",
      "\n",
      "\n",
      "Columns with Obejct Data Type :  11 \n",
      "\n",
      " Index(['job', 'marital', 'education', 'default', 'housing', 'loan', 'contact',\n",
      "       'month', 'day_of_week', 'poutcome', 'y'],\n",
      "      dtype='object')\n"
     ]
    }
   ],
   "source": [
    "print('\\n\\n\\nColumns with Obejct Data Type : ',bank[bank.select_dtypes(include = ['object']).columns].shape[1],'\\n\\n', bank.columns[bank.dtypes == 'object'])\n",
    "# bank[bank.select_dtypes(include = ['object']).columns]"
   ]
  },
  {
   "cell_type": "markdown",
   "id": "443df771",
   "metadata": {},
   "source": [
    "<h4>Find out Categorical Columns from the Object Datatype Features of the Dataset</h4>"
   ]
  },
  {
   "cell_type": "code",
   "execution_count": 60,
   "id": "fb7c1975",
   "metadata": {},
   "outputs": [
    {
     "name": "stdout",
     "output_type": "stream",
     "text": [
      "Categorical Columns with 8 or less than 8 unique values are : \n",
      " ['marital', 'education', 'default', 'housing', 'loan', 'contact', 'day_of_week', 'poutcome', 'y']\n",
      "\n",
      " \n",
      " Non Categorical Columns with more than 8 unique values are : \n",
      " ['job', 'month']\n"
     ]
    }
   ],
   "source": [
    "categorical_cols = []\n",
    "non_categorical_cols = []\n",
    "bank_obj_cols = bank.select_dtypes(include = ['object']).columns\n",
    "\n",
    "for i in range(bank[bank.select_dtypes(include = ['object']).columns].shape[1]):\n",
    "    if(len(bank[bank_obj_cols[i]].value_counts()) <= 8 ):\n",
    "        categorical_cols.append(bank_obj_cols[i])\n",
    "    else:\n",
    "        non_categorical_cols.append(bank_obj_cols[i])\n",
    "        \n",
    "print(\"Categorical Columns with 8 or less than 8 unique values are : \\n\", categorical_cols)\n",
    "print(\"\\n \\n Non Categorical Columns with more than 8 unique values are : \\n\", non_categorical_cols)"
   ]
  },
  {
   "cell_type": "markdown",
   "id": "8eb43cf0",
   "metadata": {},
   "source": [
    "<h3> 1. What does the primary analysis of several categorical features reveal?</h3>"
   ]
  },
  {
   "cell_type": "markdown",
   "id": "93f9f866",
   "metadata": {},
   "source": [
    " \n",
    "<h4> We have discovered that there are 11 object types features and 10 non-object data type</h4>\n",
    "<h4> There are a total of 9 Features which have Categorical Data in the Dataset </h4>"
   ]
  },
  {
   "cell_type": "markdown",
   "id": "3ae2eaa6",
   "metadata": {},
   "source": [
    "<h3>2. Perform the following Exploratory Data Analysis</h3>"
   ]
  },
  {
   "cell_type": "markdown",
   "id": "388c8d9c",
   "metadata": {},
   "source": [
    "<h5> a. Missing Value Analysis</h5>"
   ]
  },
  {
   "cell_type": "code",
   "execution_count": 61,
   "id": "79262155",
   "metadata": {},
   "outputs": [
    {
     "data": {
      "text/plain": [
       "age               0\n",
       "job               0\n",
       "marital           0\n",
       "education         0\n",
       "default           0\n",
       "housing           0\n",
       "loan              0\n",
       "contact           0\n",
       "month             0\n",
       "day_of_week       0\n",
       "duration          0\n",
       "campaign          0\n",
       "pdays             0\n",
       "previous          0\n",
       "poutcome          0\n",
       "emp.var.rate      0\n",
       "cons.price.idx    0\n",
       "cons.conf.idx     0\n",
       "euribor3m         0\n",
       "nr.employed       0\n",
       "y                 0\n",
       "dtype: int64"
      ]
     },
     "execution_count": 61,
     "metadata": {},
     "output_type": "execute_result"
    }
   ],
   "source": [
    "bank.isnull().sum()"
   ]
  },
  {
   "cell_type": "markdown",
   "id": "14971d80",
   "metadata": {},
   "source": [
    "<h5> b. Label Encoding wherever required </h5>"
   ]
  },
  {
   "cell_type": "code",
   "execution_count": 62,
   "id": "743c9777",
   "metadata": {
    "scrolled": false
   },
   "outputs": [
    {
     "name": "stdout",
     "output_type": "stream",
     "text": [
      "<class 'pandas.core.frame.DataFrame'>\n",
      "RangeIndex: 41188 entries, 0 to 41187\n",
      "Data columns (total 21 columns):\n",
      " #   Column          Non-Null Count  Dtype  \n",
      "---  ------          --------------  -----  \n",
      " 0   age             41188 non-null  int64  \n",
      " 1   job             41188 non-null  int32  \n",
      " 2   marital         41188 non-null  int32  \n",
      " 3   education       41188 non-null  int32  \n",
      " 4   default         41188 non-null  int32  \n",
      " 5   housing         41188 non-null  int32  \n",
      " 6   loan            41188 non-null  int32  \n",
      " 7   contact         41188 non-null  int32  \n",
      " 8   month           41188 non-null  int32  \n",
      " 9   day_of_week     41188 non-null  int32  \n",
      " 10  duration        41188 non-null  int64  \n",
      " 11  campaign        41188 non-null  int64  \n",
      " 12  pdays           41188 non-null  int64  \n",
      " 13  previous        41188 non-null  int64  \n",
      " 14  poutcome        41188 non-null  int32  \n",
      " 15  emp.var.rate    41188 non-null  float64\n",
      " 16  cons.price.idx  41188 non-null  float64\n",
      " 17  cons.conf.idx   41188 non-null  float64\n",
      " 18  euribor3m       41188 non-null  float64\n",
      " 19  nr.employed     41188 non-null  float64\n",
      " 20  y               41188 non-null  int32  \n",
      "dtypes: float64(5), int32(11), int64(5)\n",
      "memory usage: 4.9 MB\n"
     ]
    }
   ],
   "source": [
    "le = LabelEncoder()\n",
    "\n",
    "bank[bank.select_dtypes(include = ['object']).columns] = bank[bank.select_dtypes(include = ['object']).columns].apply(le.fit_transform)\n",
    "bank.info()"
   ]
  },
  {
   "cell_type": "markdown",
   "id": "c27ff2d7",
   "metadata": {},
   "source": [
    "<h5>  Divide the Dataset into train and test sets </h5>"
   ]
  },
  {
   "cell_type": "code",
   "execution_count": 63,
   "id": "e49476ac",
   "metadata": {},
   "outputs": [],
   "source": [
    "#from sklearn.model_selection import train_test_split\n",
    "\n",
    "from sklearn.model_selection import train_test_split\n",
    "\n",
    "bank_train,bank_test=train_test_split(bank,test_size=.2)\n",
    "\n",
    "bank_train_x=bank_train.iloc[:,0:-1]\n",
    "bank_train_y=bank_train.iloc[:,-1]\n",
    "\n",
    "bank_test_x=bank_test.iloc[:,0:-1]\n",
    "bank_test_y=bank_test.iloc[:,-1]\n"
   ]
  },
  {
   "cell_type": "markdown",
   "id": "0324afe2",
   "metadata": {},
   "source": [
    "<h5> c. Selecting important features based on Random Forest </h5>"
   ]
  },
  {
   "cell_type": "code",
   "execution_count": 64,
   "id": "7e8b6f83",
   "metadata": {
    "scrolled": true
   },
   "outputs": [
    {
     "data": {
      "text/plain": [
       "array([ True,  True, False,  True, False, False, False, False, False,\n",
       "        True,  True,  True,  True, False, False, False, False,  True,\n",
       "        True,  True])"
      ]
     },
     "execution_count": 64,
     "metadata": {},
     "output_type": "execute_result"
    }
   ],
   "source": [
    "rfe = RandomForestClassifier()\n",
    "rfe = RFE(rfe)\n",
    "\n",
    "rfe.fit(bank_train_x, bank_train_y)\n",
    "\n",
    "rfe.support_"
   ]
  },
  {
   "cell_type": "code",
   "execution_count": 65,
   "id": "872f00c4",
   "metadata": {
    "scrolled": true
   },
   "outputs": [
    {
     "data": {
      "text/html": [
       "<div>\n",
       "<style scoped>\n",
       "    .dataframe tbody tr th:only-of-type {\n",
       "        vertical-align: middle;\n",
       "    }\n",
       "\n",
       "    .dataframe tbody tr th {\n",
       "        vertical-align: top;\n",
       "    }\n",
       "\n",
       "    .dataframe thead th {\n",
       "        text-align: right;\n",
       "    }\n",
       "</style>\n",
       "<table border=\"1\" class=\"dataframe\">\n",
       "  <thead>\n",
       "    <tr style=\"text-align: right;\">\n",
       "      <th></th>\n",
       "      <th>Var</th>\n",
       "      <th>Imp</th>\n",
       "    </tr>\n",
       "  </thead>\n",
       "  <tbody>\n",
       "    <tr>\n",
       "      <th>0</th>\n",
       "      <td>age</td>\n",
       "      <td>True</td>\n",
       "    </tr>\n",
       "    <tr>\n",
       "      <th>9</th>\n",
       "      <td>day_of_week</td>\n",
       "      <td>True</td>\n",
       "    </tr>\n",
       "    <tr>\n",
       "      <th>18</th>\n",
       "      <td>euribor3m</td>\n",
       "      <td>True</td>\n",
       "    </tr>\n",
       "    <tr>\n",
       "      <th>17</th>\n",
       "      <td>cons.conf.idx</td>\n",
       "      <td>True</td>\n",
       "    </tr>\n",
       "    <tr>\n",
       "      <th>12</th>\n",
       "      <td>pdays</td>\n",
       "      <td>True</td>\n",
       "    </tr>\n",
       "    <tr>\n",
       "      <th>11</th>\n",
       "      <td>campaign</td>\n",
       "      <td>True</td>\n",
       "    </tr>\n",
       "    <tr>\n",
       "      <th>1</th>\n",
       "      <td>job</td>\n",
       "      <td>True</td>\n",
       "    </tr>\n",
       "    <tr>\n",
       "      <th>10</th>\n",
       "      <td>duration</td>\n",
       "      <td>True</td>\n",
       "    </tr>\n",
       "    <tr>\n",
       "      <th>3</th>\n",
       "      <td>education</td>\n",
       "      <td>True</td>\n",
       "    </tr>\n",
       "    <tr>\n",
       "      <th>19</th>\n",
       "      <td>nr.employed</td>\n",
       "      <td>True</td>\n",
       "    </tr>\n",
       "    <tr>\n",
       "      <th>8</th>\n",
       "      <td>month</td>\n",
       "      <td>False</td>\n",
       "    </tr>\n",
       "    <tr>\n",
       "      <th>7</th>\n",
       "      <td>contact</td>\n",
       "      <td>False</td>\n",
       "    </tr>\n",
       "    <tr>\n",
       "      <th>6</th>\n",
       "      <td>loan</td>\n",
       "      <td>False</td>\n",
       "    </tr>\n",
       "    <tr>\n",
       "      <th>5</th>\n",
       "      <td>housing</td>\n",
       "      <td>False</td>\n",
       "    </tr>\n",
       "    <tr>\n",
       "      <th>4</th>\n",
       "      <td>default</td>\n",
       "      <td>False</td>\n",
       "    </tr>\n",
       "    <tr>\n",
       "      <th>13</th>\n",
       "      <td>previous</td>\n",
       "      <td>False</td>\n",
       "    </tr>\n",
       "    <tr>\n",
       "      <th>14</th>\n",
       "      <td>poutcome</td>\n",
       "      <td>False</td>\n",
       "    </tr>\n",
       "    <tr>\n",
       "      <th>15</th>\n",
       "      <td>emp.var.rate</td>\n",
       "      <td>False</td>\n",
       "    </tr>\n",
       "    <tr>\n",
       "      <th>16</th>\n",
       "      <td>cons.price.idx</td>\n",
       "      <td>False</td>\n",
       "    </tr>\n",
       "    <tr>\n",
       "      <th>2</th>\n",
       "      <td>marital</td>\n",
       "      <td>False</td>\n",
       "    </tr>\n",
       "  </tbody>\n",
       "</table>\n",
       "</div>"
      ],
      "text/plain": [
       "               Var    Imp\n",
       "0              age   True\n",
       "9      day_of_week   True\n",
       "18       euribor3m   True\n",
       "17   cons.conf.idx   True\n",
       "12           pdays   True\n",
       "11        campaign   True\n",
       "1              job   True\n",
       "10        duration   True\n",
       "3        education   True\n",
       "19     nr.employed   True\n",
       "8            month  False\n",
       "7          contact  False\n",
       "6             loan  False\n",
       "5          housing  False\n",
       "4          default  False\n",
       "13        previous  False\n",
       "14        poutcome  False\n",
       "15    emp.var.rate  False\n",
       "16  cons.price.idx  False\n",
       "2          marital  False"
      ]
     },
     "execution_count": 65,
     "metadata": {},
     "output_type": "execute_result"
    }
   ],
   "source": [
    "rfe_feature_selection = pd.DataFrame({'Var':bank_train_x.columns, 'Imp':rfe.support_})\n",
    "rfe_feature_selection.sort_values('Imp', ascending = False )"
   ]
  },
  {
   "cell_type": "markdown",
   "id": "1e20926d",
   "metadata": {},
   "source": [
    "<h5> d. Handling unbalanced data using SMOTE </h5>"
   ]
  },
  {
   "cell_type": "code",
   "execution_count": null,
   "id": "a1f8c9b3",
   "metadata": {},
   "outputs": [],
   "source": []
  },
  {
   "cell_type": "code",
   "execution_count": null,
   "id": "2e41df9a",
   "metadata": {},
   "outputs": [],
   "source": []
  },
  {
   "cell_type": "code",
   "execution_count": 66,
   "id": "c418d383",
   "metadata": {},
   "outputs": [
    {
     "name": "stdout",
     "output_type": "stream",
     "text": [
      "Before \n",
      " 0    29286\n",
      "1     3664\n",
      "Name: y, dtype: int64\n",
      "====================\n",
      "After \n",
      " 0    29286\n",
      "1    29286\n",
      "Name: y, dtype: int64\n"
     ]
    }
   ],
   "source": [
    "from imblearn.over_sampling import SMOTE\n",
    "\n",
    "# counter = Counter(bank_train_y)\n",
    "print('Before \\n', bank_train_y.value_counts())\n",
    "\n",
    "smt = SMOTE()\n",
    "\n",
    "bank_train_x_sm, bank_train_y_sm = smt.fit_resample(bank_train_x, bank_train_y)\n",
    "\n",
    "print('====================\\nAfter \\n', bank_train_y_sm.value_counts())"
   ]
  },
  {
   "cell_type": "markdown",
   "id": "4d96d392",
   "metadata": {},
   "source": [
    "<h5> e. Standardize the data using the anyone of the scalers provided by sklearn </h5>"
   ]
  },
  {
   "cell_type": "code",
   "execution_count": 67,
   "id": "bcfe2240",
   "metadata": {},
   "outputs": [],
   "source": [
    "from sklearn.preprocessing import StandardScaler, normalize\n",
    "\n",
    "scalar = StandardScaler()\n",
    "bank_sns1 = scalar.fit_transform(bank)"
   ]
  },
  {
   "cell_type": "markdown",
   "id": "4995f5e8",
   "metadata": {},
   "source": [
    "<h3>Q3. Build the following Supervised Learning models:</h3>"
   ]
  },
  {
   "cell_type": "code",
   "execution_count": 68,
   "id": "bac5c00d",
   "metadata": {},
   "outputs": [],
   "source": [
    "model_name_lst = []\n",
    "\n",
    "AccuracyScore = []\n",
    "PrecisionScore = []\n",
    "Recall_Score = []\n",
    "F1_score = []\n",
    "Roc_Scr = []\n",
    "\n",
    "\n",
    "def model_scores(model_name, model_obj):\n",
    "    \n",
    "    pred_y = model_obj.predict(bank_test_x)\n",
    "    \n",
    "#     print(pred_y)\n",
    "    \n",
    "#     ConfusionMatrix = confusion_matrix(pr_test_y, pr_pred_y) \n",
    "#     print('ConfusionMatrix')\n",
    "#     print(ConfusionMatrix,'\\n')\n",
    "\n",
    "    AccuracyScore.append(np.round((model_obj.score(bank_test_x, bank_test_y))*100))\n",
    "\n",
    "    PrecisionScore.append(((precision_score(bank_test_y, pred_y))*100).round(2))\n",
    "\n",
    "    Recall_Score.append(((recall_score(bank_test_y, pred_y))*100).round(2))\n",
    "\n",
    "    F1_score.append(((f1_score(bank_test_y, pred_y))*100).round(2))\n",
    "\n",
    "    Roc_Scr.append(((roc_auc_score(bank_test_y, pred_y))*100).round(2))\n",
    "\n",
    "    model_name_lst.append(model_name)\n"
   ]
  },
  {
   "cell_type": "markdown",
   "id": "e98137ff",
   "metadata": {},
   "source": [
    "<h3> a. Logistic Regression classification</h3>"
   ]
  },
  {
   "cell_type": "code",
   "execution_count": 69,
   "id": "2e923e45",
   "metadata": {},
   "outputs": [
    {
     "name": "stderr",
     "output_type": "stream",
     "text": [
      "C:\\Users\\Amol purkar\\anaconda3\\lib\\site-packages\\sklearn\\linear_model\\_logistic.py:444: ConvergenceWarning: lbfgs failed to converge (status=1):\n",
      "STOP: TOTAL NO. of ITERATIONS REACHED LIMIT.\n",
      "\n",
      "Increase the number of iterations (max_iter) or scale the data as shown in:\n",
      "    https://scikit-learn.org/stable/modules/preprocessing.html\n",
      "Please also refer to the documentation for alternative solver options:\n",
      "    https://scikit-learn.org/stable/modules/linear_model.html#logistic-regression\n",
      "  n_iter_i = _check_optimize_result(\n"
     ]
    }
   ],
   "source": [
    "logreg = LogisticRegression(max_iter  =500)\n",
    "logreg.fit(bank_train_x_sm, bank_train_y_sm)\n",
    "\n",
    "# pred_y = logreg.predict(bank_test_x)\n",
    "\n",
    "model_scores('Logistic Reg', logreg)"
   ]
  },
  {
   "cell_type": "markdown",
   "id": "683c2edf",
   "metadata": {},
   "source": [
    "<h3>b. Ada Boost Classifier</h3>"
   ]
  },
  {
   "cell_type": "code",
   "execution_count": 70,
   "id": "8ebf246d",
   "metadata": {},
   "outputs": [],
   "source": [
    "ada = AdaBoostClassifier()\n",
    "ada.fit(bank_train_x_sm, bank_train_y_sm)\n",
    "model_scores('Ada Boost', ada)"
   ]
  },
  {
   "cell_type": "markdown",
   "id": "3310abf7",
   "metadata": {},
   "source": [
    "<h3>c.  Naive Bayes</h3>"
   ]
  },
  {
   "cell_type": "code",
   "execution_count": 71,
   "id": "bdc90160",
   "metadata": {},
   "outputs": [],
   "source": [
    "nb = GaussianNB()\n",
    "nb.fit(bank_train_x_sm, bank_train_y_sm)\n",
    "model_scores('Naive Bayes', nb)"
   ]
  },
  {
   "cell_type": "markdown",
   "id": "006706b8",
   "metadata": {},
   "source": [
    "<h3>d.  KNN</h3>"
   ]
  },
  {
   "cell_type": "code",
   "execution_count": 72,
   "id": "a0ffbc17",
   "metadata": {},
   "outputs": [],
   "source": [
    "knn = KNeighborsClassifier(n_neighbors=5)\n",
    "knn.fit(bank_train_x_sm, bank_train_y_sm)\n",
    "model_scores('KNN', knn)"
   ]
  },
  {
   "cell_type": "markdown",
   "id": "e7713e9f",
   "metadata": {},
   "source": [
    "<h3>e.  Support Vector Machine</h3>"
   ]
  },
  {
   "cell_type": "code",
   "execution_count": null,
   "id": "0b33fb0a",
   "metadata": {},
   "outputs": [],
   "source": [
    "svm = SVC()\n",
    "svm.fit(bank_train_x_sm, bank_train_y_sm)\n",
    "model_scores('SVM', svm)"
   ]
  },
  {
   "cell_type": "markdown",
   "id": "357bb0e5",
   "metadata": {},
   "source": [
    "<h3>Q4] Tabulate the performance metrics of all the above models\n",
    "and tell which model performs better in predicting if the\n",
    "client will subscribe to term deposit or not </h3>"
   ]
  },
  {
   "cell_type": "markdown",
   "id": "05cd9e97",
   "metadata": {},
   "source": [
    "<h3>Performance Metrics of all the above models </h3>"
   ]
  },
  {
   "cell_type": "code",
   "execution_count": null,
   "id": "5cb65f6c",
   "metadata": {},
   "outputs": [],
   "source": [
    "Scores = pd.DataFrame({'Accuracy Score' : AccuracyScore, 'Precision Score': PrecisionScore, 'Recall Score': Recall_Score, 'F1 score': F1_score, 'Roc Scr':Roc_Scr}, index= [model_name_lst])\n",
    "df = Scores.sort_values('Precision Score', ascending=False)\n",
    "df"
   ]
  },
  {
   "cell_type": "markdown",
   "id": "84d447fb",
   "metadata": {},
   "source": [
    "<h2>Part II : Time Series</h2>"
   ]
  },
  {
   "cell_type": "code",
   "execution_count": null,
   "id": "31b4b95a",
   "metadata": {},
   "outputs": [],
   "source": [
    "import numpy as np\n",
    "import matplotlib.pyplot as plt\n",
    "import pandas as pd\n",
    "\n",
    "from statsmodels.graphics.tsaplots import plot_acf, plot_pacf\n",
    "from statsmodels.tsa.arima.model import ARIMA\n",
    "\n",
    "from statsmodels.tsa.seasonal import seasonal_decompose\n",
    "from statsmodels.tsa.statespace.sarimax import SARIMAX\n"
   ]
  },
  {
   "cell_type": "code",
   "execution_count": null,
   "id": "29551755",
   "metadata": {},
   "outputs": [],
   "source": [
    "tm = pd.read_csv(r\"D:\\24 Machine Learning Question Paper 1 with datasets\\MonthWiseMarketArrivals_Clean.csv\")\n",
    "tm.head()"
   ]
  },
  {
   "cell_type": "code",
   "execution_count": null,
   "id": "f794544b",
   "metadata": {},
   "outputs": [],
   "source": [
    "tm.shape"
   ]
  },
  {
   "cell_type": "markdown",
   "id": "708b7f7a",
   "metadata": {},
   "source": [
    "<h4>Q1. Get the modal price of onion for each month for the Mumbai\n",
    "market (Hint: set monthly date as index and drop\n",
    "redundant columns)<h4>"
   ]
  },
  {
   "cell_type": "code",
   "execution_count": null,
   "id": "dfd115b4",
   "metadata": {
    "scrolled": true
   },
   "outputs": [],
   "source": [
    "de = pd.DataFrame(tm.groupby('month').priceMod.mean().round(2))\n",
    "de.sort_index()"
   ]
  },
  {
   "cell_type": "code",
   "execution_count": null,
   "id": "1512f0cf",
   "metadata": {},
   "outputs": [],
   "source": [
    "# Group the Data according to each month of the year in a sorted manner\n",
    "date = pd.DataFrame(tm.groupby('date').priceMod.mean().round(2))\n",
    "date.sort_index()\n",
    "\n",
    "# Reset the index as an individual coulumn for converting into an integer format\n",
    "date.reset_index(level=0, inplace = True)"
   ]
  },
  {
   "cell_type": "code",
   "execution_count": null,
   "id": "e13b0ac0",
   "metadata": {},
   "outputs": [],
   "source": [
    "# Process the date column as per requirement in a different DF and add to the original DF\n",
    "\n",
    "date2 = date['date'].str.split('-', expand = True)\n",
    "date2.rename(columns = {0: 'month', 1:'year'}, inplace=True)\n",
    "date2['month'] = date2['month'].replace({'January':1, 'February':2, 'March':3, 'April':4, 'May':5, 'June':6, 'July':7, \n",
    "                             'August':8, 'September':9, 'October':10, 'November':11, 'December':12})\n",
    "date2['full_Date'] = date2['year'].astype(str)+'-'+date2['month'].astype(str)\n",
    "date2.head()\n"
   ]
  },
  {
   "cell_type": "code",
   "execution_count": null,
   "id": "2882eacc",
   "metadata": {},
   "outputs": [],
   "source": [
    "# Add the processed Date column to the original Dataframe\n",
    "\n",
    "date['Date'] = date2['full_Date']\n",
    "date.drop(['date'], inplace= True, axis = 1)\n",
    "\n",
    "date.Date = pd.to_datetime(date.Date, infer_datetime_format=True)\n",
    "date_index = date.set_index(['Date'])"
   ]
  },
  {
   "cell_type": "code",
   "execution_count": null,
   "id": "fb53607f",
   "metadata": {},
   "outputs": [],
   "source": [
    "date_index.info()"
   ]
  },
  {
   "cell_type": "code",
   "execution_count": null,
   "id": "10ec1f42",
   "metadata": {},
   "outputs": [],
   "source": [
    "date_index = date_index.sort_index()"
   ]
  },
  {
   "cell_type": "markdown",
   "id": "6d053d04",
   "metadata": {},
   "source": [
    "<h4>Q2. Build time series model and check the performance of the model using RMSE</h4>"
   ]
  },
  {
   "cell_type": "code",
   "execution_count": null,
   "id": "da534939",
   "metadata": {},
   "outputs": [],
   "source": [
    "date_index_log = np.log(date_index)\n",
    "# result =  seasonal_decompose( tm_index_log.priceMod, period=10)\n",
    "result =  seasonal_decompose( date_index.priceMod , period=12)\n",
    "result.plot();"
   ]
  },
  {
   "cell_type": "code",
   "execution_count": null,
   "id": "3c70af17",
   "metadata": {},
   "outputs": [],
   "source": [
    "date_index_log.shape"
   ]
  },
  {
   "cell_type": "code",
   "execution_count": null,
   "id": "ad1393ea",
   "metadata": {
    "scrolled": true
   },
   "outputs": [],
   "source": [
    "# Build Model using SARIMAX\n",
    "\n",
    "train = date_index_log[0:229]\n",
    "test = date_index_log[229:]\n",
    "\n",
    "model_sarima = SARIMAX(train, order=(10, 0, 0), seasonal_order=(0, 2, 0, 12))"
   ]
  },
  {
   "cell_type": "code",
   "execution_count": null,
   "id": "e844ba0a",
   "metadata": {},
   "outputs": [],
   "source": [
    "results = model_sarima.fit()"
   ]
  },
  {
   "cell_type": "code",
   "execution_count": null,
   "id": "023de937",
   "metadata": {},
   "outputs": [],
   "source": [
    "results.predict()    #<- it prredicted for all the data we trained it on"
   ]
  },
  {
   "cell_type": "code",
   "execution_count": null,
   "id": "24bd2379",
   "metadata": {},
   "outputs": [],
   "source": [
    "pred_result = results.predict(start = 231, end =242)\n",
    "\n",
    "# pred_result = results.forecast(steps = 12)\n",
    "\n",
    "pred_result_actual_scale = pd.DataFrame(np.exp(pred_result).round(2))\n",
    "\n",
    "date_for_pred = ['2015-03-01', '2015-04-01','2015-05-01', '2015-06-01','2015-07-01','2015-08-01','2015-09-01',\n",
    "'2015-10-01','2015-11-01','2015-12-01','2016-01-01','2016-02-01']\n",
    "\n",
    "# pred_result_actual_scale = pd.concat([pred_result_actual_scale, pd.Series(date_for_pred)], axis = 1 )\n",
    "\n",
    "pred_result_actual_scale['Date'] =  date_for_pred\n",
    "\n",
    "pred_result_actual_scale.rename(columns={pred_result_actual_scale.columns[0]:'Predicted'}, inplace = True)\n",
    "\n",
    "pred_result_actual_scale.rename(columns={pred_result_actual_scale.columns[1] : 'Date'}, inplace = True)\n",
    "\n",
    "pred_result_actual_scale.Date = pd.to_datetime(pred_result_actual_scale.Date, infer_datetime_format=True)\n",
    "\n",
    "pred_result_actual_scale = pred_result_actual_scale.set_index(['Date'])"
   ]
  },
  {
   "cell_type": "code",
   "execution_count": null,
   "id": "05fdf552",
   "metadata": {},
   "outputs": [],
   "source": [
    "error = test['priceMod'] - pred_result_actual_scale['Predicted']\n",
    "error\n"
   ]
  },
  {
   "cell_type": "code",
   "execution_count": null,
   "id": "7600ffc8",
   "metadata": {},
   "outputs": [],
   "source": [
    "import math\n",
    "\n",
    "\n",
    "MSE = np.mean(np.square(error))\n",
    "RMSE = math.sqrt(MSE)\n",
    "mape = np.mean(np.abs(error *100 /pred_result_actual_scale['Predicted']))\n",
    "\n",
    "print(\"Mean Square Error :\", round(MSE,2))\n",
    "print(\"Root Mean Square Error :\", round(RMSE, 2))\n",
    "print(\"Mean Absolute Percentage Error :\", round(mape, 2))"
   ]
  },
  {
   "cell_type": "code",
   "execution_count": null,
   "id": "7eee335c",
   "metadata": {},
   "outputs": [],
   "source": [
    "date_index_log.plot()"
   ]
  },
  {
   "cell_type": "markdown",
   "id": "c0e99189",
   "metadata": {},
   "source": [
    "<h4>Q3. Plot ACF and PACF plots</h4>"
   ]
  },
  {
   "cell_type": "code",
   "execution_count": null,
   "id": "5972d5be",
   "metadata": {
    "scrolled": false
   },
   "outputs": [],
   "source": [
    "# ACF Plots\n",
    "\n",
    "plot_acf(date_index_log.priceMod, lags = 30);"
   ]
  },
  {
   "cell_type": "code",
   "execution_count": null,
   "id": "c96926c4",
   "metadata": {},
   "outputs": [],
   "source": [
    "# PACF Plots\n",
    "\n",
    "plot_pacf(date_index_log.priceMod, lags = 50);"
   ]
  },
  {
   "cell_type": "markdown",
   "id": "0a7f7bca",
   "metadata": {},
   "source": [
    "<h4>Q4. Exponential smoothing using Holt-Winter’s technique and Forecast onion price for Mumbai market</h4>\n",
    "\n",
    "Forecasting the Onion Prices for the next 12 months and validating it against the test set"
   ]
  },
  {
   "cell_type": "code",
   "execution_count": null,
   "id": "4f9cf169",
   "metadata": {},
   "outputs": [],
   "source": [
    "train_unlog = np.exp(train).round(2)\n",
    "test_unlog = np.exp(test).round(2)"
   ]
  },
  {
   "cell_type": "code",
   "execution_count": null,
   "id": "2d46273d",
   "metadata": {},
   "outputs": [],
   "source": [
    "train_unlog['priceMod'].plot(legend = True, label = 'Original', color='green') # train target data in green\n",
    "pred_result_actual_scale['Predicted'].plot(legend = True, label = 'Predicted', color='blue') # Predicted target data in blue\n",
    "test_unlog['priceMod'].plot(legend = True, label = 'Actual', color='red') # test target data in red"
   ]
  },
  {
   "cell_type": "code",
   "execution_count": null,
   "id": "956a0038",
   "metadata": {
    "scrolled": true
   },
   "outputs": [],
   "source": [
    "error = test_unlog['priceMod'] - pred_result_actual_scale['Predicted']\n",
    "error"
   ]
  },
  {
   "cell_type": "code",
   "execution_count": null,
   "id": "330a6c68",
   "metadata": {},
   "outputs": [],
   "source": []
  }
 ],
 "metadata": {
  "kernelspec": {
   "display_name": "Python 3 (ipykernel)",
   "language": "python",
   "name": "python3"
  },
  "language_info": {
   "codemirror_mode": {
    "name": "ipython",
    "version": 3
   },
   "file_extension": ".py",
   "mimetype": "text/x-python",
   "name": "python",
   "nbconvert_exporter": "python",
   "pygments_lexer": "ipython3",
   "version": "3.9.12"
  }
 },
 "nbformat": 4,
 "nbformat_minor": 5
}
